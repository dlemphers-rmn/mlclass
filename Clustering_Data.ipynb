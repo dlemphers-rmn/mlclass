{
 "metadata": {
  "name": "",
  "signature": "sha256:f953a7d03aa982c03fc4dbcacd6aaddd536888dcf941acd9a9405868cce613a7"
 },
 "nbformat": 3,
 "nbformat_minor": 0,
 "worksheets": [
  {
   "cells": [
    {
     "cell_type": "heading",
     "level": 2,
     "metadata": {},
     "source": [
      "In this session we are going to focus on how to use machine learning algorithms on the WebPage dataset from Dave's session. "
     ]
    },
    {
     "cell_type": "markdown",
     "metadata": {},
     "source": [
      "Loading data from Dave, which is a pickle file."
     ]
    },
    {
     "cell_type": "markdown",
     "metadata": {},
     "source": [
      "<img src=\"./data/featureengineering/1398282433_thumb.png\"/>"
     ]
    },
    {
     "cell_type": "code",
     "collapsed": false,
     "input": [
      "import requests\n",
      "import cPickle"
     ],
     "language": "python",
     "metadata": {},
     "outputs": []
    },
    {
     "cell_type": "code",
     "collapsed": false,
     "input": [
      "%pylab inline"
     ],
     "language": "python",
     "metadata": {},
     "outputs": []
    },
    {
     "cell_type": "code",
     "collapsed": false,
     "input": [
      "with open('data/webpage.pkl', 'rb') as pickle:\n",
      "        webpage_data = cPickle.load(pickle)"
     ],
     "language": "python",
     "metadata": {},
     "outputs": []
    },
    {
     "cell_type": "code",
     "collapsed": false,
     "input": [
      "import pandas as pd"
     ],
     "language": "python",
     "metadata": {},
     "outputs": []
    },
    {
     "cell_type": "markdown",
     "metadata": {},
     "source": [
      "Converting Dictionary to Pandas Data Frame"
     ]
    },
    {
     "cell_type": "code",
     "collapsed": false,
     "input": [
      "webdata_df = pd.DataFrame(webpage_data['elements'])\n",
      "webdata_df"
     ],
     "language": "python",
     "metadata": {},
     "outputs": []
    },
    {
     "cell_type": "code",
     "collapsed": false,
     "input": [
      "webdata_df.tag.value_counts().plot(kind='barh')"
     ],
     "language": "python",
     "metadata": {},
     "outputs": []
    },
    {
     "cell_type": "markdown",
     "metadata": {},
     "source": [
      "In this session we will learn how to cluster this data using various clustering methods like:\n",
      "\n",
      "* [K-Means](http://en.wikipedia.org/wiki/K-means_clustering)\n",
      "* [Density-based spatial clustering of applications with noise (DBSCAN)](http://en.wikipedia.org/wiki/DBSCAN)\n",
      "\n",
      "Main idea behind this task is to segment the webpage into clusters which serves following purposes:\n",
      "* Removing Noise\n",
      "* Extraction of relevant information (Product Image, Title, Description, Price, Reviews)"
     ]
    },
    {
     "cell_type": "code",
     "collapsed": false,
     "input": [
      "import sklearn.feature_extraction.dict_vectorizer\n",
      "v = sklearn.feature_extraction.dict_vectorizer.DictVectorizer(sparse=True)\n",
      "# Remember this from our last session? "
     ],
     "language": "python",
     "metadata": {},
     "outputs": []
    },
    {
     "cell_type": "code",
     "collapsed": false,
     "input": [
      "X = v.fit_transform(webpage_data['elements'])\n",
      "\n",
      "# We have to use the raw data here I will talk about why we did that"
     ],
     "language": "python",
     "metadata": {},
     "outputs": []
    },
    {
     "cell_type": "markdown",
     "metadata": {},
     "source": [
      "Let us use KMeans Clustering Algoritm to Cluster Elements on a Web Page, K-Means expects the user to provide number of clusters to segment data in. "
     ]
    },
    {
     "cell_type": "code",
     "collapsed": false,
     "input": [
      "from sklearn.cluster import KMeans\n",
      "km = KMeans(n_clusters=4)\n",
      "# Created object now we will feed data into the object."
     ],
     "language": "python",
     "metadata": {},
     "outputs": []
    },
    {
     "cell_type": "code",
     "collapsed": false,
     "input": [
      "km.fit(X)"
     ],
     "language": "python",
     "metadata": {},
     "outputs": []
    },
    {
     "cell_type": "code",
     "collapsed": false,
     "input": [
      "km.labels_"
     ],
     "language": "python",
     "metadata": {},
     "outputs": []
    },
    {
     "cell_type": "code",
     "collapsed": false,
     "input": [
      "webdata_df['kmeans_labels']=km.labels_"
     ],
     "language": "python",
     "metadata": {},
     "outputs": []
    },
    {
     "cell_type": "code",
     "collapsed": false,
     "input": [
      "for lbl in set(km.labels_):\n",
      "    print \"=========LABEL = {}=======\\n\".format(lbl)\n",
      "    clu_0 = webdata_df[webdata_df.kmeans_labels == lbl]\n",
      "    for i, row in clu_0.iterrows():\n",
      "        print row.tag,row.text "
     ],
     "language": "python",
     "metadata": {},
     "outputs": []
    },
    {
     "cell_type": "markdown",
     "metadata": {},
     "source": [
      "> **Your Turn!** Can you plot histogram of number of clusters based on membership? Which cluster has higest membership?"
     ]
    },
    {
     "cell_type": "code",
     "collapsed": false,
     "input": [
      "%load -r 7 solutions/sol2.py"
     ],
     "language": "python",
     "metadata": {},
     "outputs": []
    },
    {
     "cell_type": "code",
     "collapsed": false,
     "input": [
      "webdata_df.kmeans_labels.value_counts().plot(kind='barh')"
     ],
     "language": "python",
     "metadata": {},
     "outputs": []
    },
    {
     "cell_type": "code",
     "collapsed": false,
     "input": [
      "webdata_df"
     ],
     "language": "python",
     "metadata": {},
     "outputs": []
    },
    {
     "cell_type": "markdown",
     "metadata": {},
     "source": [
      "Overlaying cluster information on the web page looks like this:"
     ]
    },
    {
     "cell_type": "code",
     "collapsed": false,
     "input": [
      "%load -r 9-11 solutions/sol2.py"
     ],
     "language": "python",
     "metadata": {},
     "outputs": []
    },
    {
     "cell_type": "code",
     "collapsed": false,
     "input": [
      "from IPython.display import Image\n",
      "i = Image(filename='data/clustering_kmeans.png')\n",
      "i"
     ],
     "language": "python",
     "metadata": {},
     "outputs": []
    },
    {
     "cell_type": "code",
     "collapsed": false,
     "input": [
      "from IPython.display import Image\n",
      "i = Image(filename='data/clustering_kmeans.png')\n",
      "i"
     ],
     "language": "python",
     "metadata": {},
     "outputs": []
    },
    {
     "cell_type": "markdown",
     "metadata": {},
     "source": [
      "Let us try using DBSCAN on the data and see what we see: \n",
      "\n",
      "Note that DBSCAN automatically decides number of clusters based on min_samples in cluster and eps which is how seperate the clusters should be. "
     ]
    },
    {
     "cell_type": "code",
     "collapsed": false,
     "input": [
      "import sklearn.cluster\n",
      "db = sklearn.cluster.DBSCAN(eps=200,min_samples=1, metric='cityblock')"
     ],
     "language": "python",
     "metadata": {},
     "outputs": []
    },
    {
     "cell_type": "code",
     "collapsed": false,
     "input": [
      "db.fit(X.toarray())"
     ],
     "language": "python",
     "metadata": {},
     "outputs": []
    },
    {
     "cell_type": "code",
     "collapsed": false,
     "input": [
      "webdata_df['dbscan_labels']=db.labels_"
     ],
     "language": "python",
     "metadata": {},
     "outputs": []
    },
    {
     "cell_type": "code",
     "collapsed": false,
     "input": [
      "for lbl in set(db.labels_):\n",
      "    print \"=========LABEL = {}=======\\n\".format(lbl)\n",
      "    clu_0 = webdata_df[webdata_df.kmeans_labels == lbl]\n",
      "    for i, row in clu_0.iterrows():\n",
      "        print row.tag,row.text "
     ],
     "language": "python",
     "metadata": {},
     "outputs": []
    },
    {
     "cell_type": "code",
     "collapsed": false,
     "input": [
      "webdata_df.dbscan_labels.value_counts().plot(kind='barh')"
     ],
     "language": "python",
     "metadata": {},
     "outputs": []
    },
    {
     "cell_type": "code",
     "collapsed": false,
     "input": [
      "%load -r 13-15 solutions/sol2.py"
     ],
     "language": "python",
     "metadata": {},
     "outputs": []
    },
    {
     "cell_type": "markdown",
     "metadata": {},
     "source": [
      "So in this tutorial we learnt about how to perform clustering on a dataset with an example about segmenting the webpage. Next steps (offline) would be to come up with a cluster fusion mechanism so that we can merge very close clusters and identify clusters to extract data from."
     ]
    }
   ],
   "metadata": {}
  }
 ]
}