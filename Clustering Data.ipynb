{
 "metadata": {
  "name": "",
  "signature": "sha256:d6614c46fac2ace3e839d4485c4092ff35e2c5efbbb1f9a3ef9d1bd7241015af"
 },
 "nbformat": 3,
 "nbformat_minor": 0,
 "worksheets": [
  {
   "cells": [
    {
     "cell_type": "heading",
     "level": 2,
     "metadata": {},
     "source": [
      "In this session we are going to focus on how to use machine learning algorithms on the WebPage dataset from Dave's session. "
     ]
    },
    {
     "cell_type": "markdown",
     "metadata": {},
     "source": [
      "Loading data from Dave, which is a pickle file."
     ]
    },
    {
     "cell_type": "code",
     "collapsed": false,
     "input": [
      "import requests\n",
      "import cPickle"
     ],
     "language": "python",
     "metadata": {},
     "outputs": [],
     "prompt_number": 16
    },
    {
     "cell_type": "code",
     "collapsed": false,
     "input": [
      "with open('data/webpage.pkl', 'rb') as pickle:\n",
      "        webpage_data = cPickle.load(pickle)"
     ],
     "language": "python",
     "metadata": {},
     "outputs": [],
     "prompt_number": 17
    },
    {
     "cell_type": "code",
     "collapsed": false,
     "input": [
      "import pandas as pd"
     ],
     "language": "python",
     "metadata": {},
     "outputs": [],
     "prompt_number": 18
    },
    {
     "cell_type": "markdown",
     "metadata": {},
     "source": [
      "Converting Dictionary to Pandas Data Frame"
     ]
    },
    {
     "cell_type": "code",
     "collapsed": false,
     "input": [
      "webdata_df = pd.DataFrame(webpage_data['elements'])"
     ],
     "language": "python",
     "metadata": {},
     "outputs": [],
     "prompt_number": 8
    },
    {
     "cell_type": "code",
     "collapsed": false,
     "input": [],
     "language": "python",
     "metadata": {},
     "outputs": []
    }
   ],
   "metadata": {}
  }
 ]
}