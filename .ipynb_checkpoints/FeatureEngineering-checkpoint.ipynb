{
 "metadata": {
  "name": "",
  "signature": "sha256:043d4df501a16bdabae278b5a6b438dbb113779ece10b0624495d6862dd46b23"
 },
 "nbformat": 3,
 "nbformat_minor": 0,
 "worksheets": [
  {
   "cells": [
    {
     "cell_type": "heading",
     "level": 1,
     "metadata": {},
     "source": [
      "Feature Engineering"
     ]
    },
    {
     "cell_type": "heading",
     "level": 3,
     "metadata": {},
     "source": [
      "It's not magic, it's math!"
     ]
    },
    {
     "cell_type": "markdown",
     "metadata": {},
     "source": [
      "Feature engineering is a crucial, yet commonly neglected technique, in machine learning. Datasets in their original form are rarely in such a way, that when modelled, provide outstanding results. A small amount of feature engineering, can significanly enhance a machine learning model, or in some case, create new insights. "
     ]
    },
    {
     "cell_type": "heading",
     "level": 3,
     "metadata": {},
     "source": [
      "Pandas"
     ]
    },
    {
     "cell_type": "markdown",
     "metadata": {},
     "source": [
      "<img src=\"http://pandas.pydata.org/_static/pandas_logo.png\"/>"
     ]
    },
    {
     "cell_type": "markdown",
     "metadata": {},
     "source": [
      "Pandas is a powerful data analysis tool, and when used within the IPython environment, together with inline pylab, creates the perfect environment for visualizing a dataset. Visualizing and understanding a dataset is the first step in feature engineering a great dataset on which to base your model."
     ]
    },
    {
     "cell_type": "heading",
     "level": 3,
     "metadata": {},
     "source": [
      "Exercise 1 - Load some data"
     ]
    },
    {
     "cell_type": "markdown",
     "metadata": {},
     "source": [
      "Let's start by loading a dataset which is based on the following webpage:\n",
      "\n",
      "<img src=\"./data/ss_thumb.png\"/>"
     ]
    },
    {
     "cell_type": "code",
     "collapsed": false,
     "input": [
      "import pickle\n",
      "page = pickle.load(open('./data/webpage.pkl', 'r'))"
     ],
     "language": "python",
     "metadata": {},
     "outputs": [],
     "prompt_number": 16
    },
    {
     "cell_type": "markdown",
     "metadata": {},
     "source": [
      "The data structure has two key fields, one is the document title:"
     ]
    },
    {
     "cell_type": "code",
     "collapsed": false,
     "input": [
      "print page['title']"
     ],
     "language": "python",
     "metadata": {},
     "outputs": [
      {
       "output_type": "stream",
       "stream": "stdout",
       "text": [
        "Jessica Simpson Juniors Forever Skinny Jeans, Black Wash - Juniors Jeans - Macy's\n"
       ]
      }
     ],
     "prompt_number": 15
    },
    {
     "cell_type": "markdown",
     "metadata": {},
     "source": [
      "The second is a list of elements that contain visible text, with some metadata:"
     ]
    },
    {
     "cell_type": "code",
     "collapsed": false,
     "input": [
      "print page['elements'][0]"
     ],
     "language": "python",
     "metadata": {},
     "outputs": [
      {
       "output_type": "stream",
       "stream": "stdout",
       "text": [
        "{'text': u'sign in', 'tag': u'a', 'w': 57, 'h': 34, 'y': 2, 'x': 66.5}\n"
       ]
      }
     ],
     "prompt_number": 18
    },
    {
     "cell_type": "markdown",
     "metadata": {},
     "source": [
      "The first thing we want to do, is get this data into a human readable format, to assist with analysis. Let's start by using the most commonly used object in Pandas, the DataFrame"
     ]
    },
    {
     "cell_type": "code",
     "collapsed": false,
     "input": [
      "import pandas as pd # Aliasing Pandas as pd is common, but not necessarily best practice\n",
      "\n",
      "elements = pd.DataFrame(page['elements'])\n",
      "type(elements)"
     ],
     "language": "python",
     "metadata": {},
     "outputs": [
      {
       "metadata": {},
       "output_type": "pyout",
       "prompt_number": 24,
       "text": [
        "pandas.core.frame.DataFrame"
       ]
      }
     ],
     "prompt_number": 24
    },
    {
     "cell_type": "markdown",
     "metadata": {},
     "source": [
      "We now have a DataFrame, which has some great utility methods for working with data, but to start with, let's just eyeball the dataset"
     ]
    },
    {
     "cell_type": "code",
     "collapsed": false,
     "input": [
      "elements.head()"
     ],
     "language": "python",
     "metadata": {},
     "outputs": [
      {
       "html": [
        "<div style=\"max-height:1000px;max-width:1500px;overflow:auto;\">\n",
        "<table border=\"1\" class=\"dataframe\">\n",
        "  <thead>\n",
        "    <tr style=\"text-align: right;\">\n",
        "      <th></th>\n",
        "      <th>h</th>\n",
        "      <th>tag</th>\n",
        "      <th>text</th>\n",
        "      <th>w</th>\n",
        "      <th>x</th>\n",
        "      <th>y</th>\n",
        "    </tr>\n",
        "  </thead>\n",
        "  <tbody>\n",
        "    <tr>\n",
        "      <th>0</th>\n",
        "      <td> 34</td>\n",
        "      <td>    a</td>\n",
        "      <td>          sign in</td>\n",
        "      <td>  57</td>\n",
        "      <td>  66.5</td>\n",
        "      <td>  2</td>\n",
        "    </tr>\n",
        "    <tr>\n",
        "      <th>1</th>\n",
        "      <td> 34</td>\n",
        "      <td>    a</td>\n",
        "      <td>       my account</td>\n",
        "      <td>  82</td>\n",
        "      <td> 125.5</td>\n",
        "      <td>  2</td>\n",
        "    </tr>\n",
        "    <tr>\n",
        "      <th>2</th>\n",
        "      <td> 34</td>\n",
        "      <td>    a</td>\n",
        "      <td>           stores</td>\n",
        "      <td>  50</td>\n",
        "      <td> 209.5</td>\n",
        "      <td>  2</td>\n",
        "    </tr>\n",
        "    <tr>\n",
        "      <th>3</th>\n",
        "      <td> 34</td>\n",
        "      <td>    a</td>\n",
        "      <td> customer service</td>\n",
        "      <td> 114</td>\n",
        "      <td> 261.5</td>\n",
        "      <td>  2</td>\n",
        "    </tr>\n",
        "    <tr>\n",
        "      <th>4</th>\n",
        "      <td> 16</td>\n",
        "      <td> span</td>\n",
        "      <td>           my bag</td>\n",
        "      <td>  50</td>\n",
        "      <td> 845.5</td>\n",
        "      <td> 88</td>\n",
        "    </tr>\n",
        "  </tbody>\n",
        "</table>\n",
        "<p>5 rows \u00d7 6 columns</p>\n",
        "</div>"
       ],
       "metadata": {},
       "output_type": "pyout",
       "prompt_number": 26,
       "text": [
        "    h   tag              text    w      x   y\n",
        "0  34     a           sign in   57   66.5   2\n",
        "1  34     a        my account   82  125.5   2\n",
        "2  34     a            stores   50  209.5   2\n",
        "3  34     a  customer service  114  261.5   2\n",
        "4  16  span            my bag   50  845.5  88\n",
        "\n",
        "[5 rows x 6 columns]"
       ]
      }
     ],
     "prompt_number": 26
    },
    {
     "cell_type": "markdown",
     "metadata": {},
     "source": [
      "This is already useful, we can start to visualize the shape of the data, in a human readable way. We can observe that we have position and size information, the HTML type, and the text of the element. \n",
      "\n",
      "I already have a question though, what is the first visible p text element on the page? For this, we can simply sort the table and filter the results to the data we want:"
     ]
    },
    {
     "cell_type": "code",
     "collapsed": false,
     "input": [
      "elements[elements.tag == 'p'].sort(['y'])"
     ],
     "language": "python",
     "metadata": {},
     "outputs": [
      {
       "html": [
        "<div style=\"max-height:1000px;max-width:1500px;overflow:auto;\">\n",
        "<table border=\"1\" class=\"dataframe\">\n",
        "  <thead>\n",
        "    <tr style=\"text-align: right;\">\n",
        "      <th></th>\n",
        "      <th>h</th>\n",
        "      <th>tag</th>\n",
        "      <th>text</th>\n",
        "      <th>w</th>\n",
        "      <th>x</th>\n",
        "      <th>y</th>\n",
        "    </tr>\n",
        "  </thead>\n",
        "  <tbody>\n",
        "    <tr>\n",
        "      <th>127</th>\n",
        "      <td> 12</td>\n",
        "      <td> p</td>\n",
        "      <td> \u00a9 2014 macys.com is a registered trademark. Al...</td>\n",
        "      <td> 1035</td>\n",
        "      <td> 0</td>\n",
        "      <td> 2464</td>\n",
        "    </tr>\n",
        "    <tr>\n",
        "      <th>128</th>\n",
        "      <td> 12</td>\n",
        "      <td> p</td>\n",
        "      <td> Macys.com, Inc., 685 Market Street, San Franci...</td>\n",
        "      <td> 1035</td>\n",
        "      <td> 0</td>\n",
        "      <td> 2480</td>\n",
        "    </tr>\n",
        "  </tbody>\n",
        "</table>\n",
        "<p>2 rows \u00d7 6 columns</p>\n",
        "</div>"
       ],
       "metadata": {},
       "output_type": "pyout",
       "prompt_number": 33,
       "text": [
        "      h tag                                               text     w  x     y\n",
        "127  12   p  \u00a9 2014 macys.com is a registered trademark. Al...  1035  0  2464\n",
        "128  12   p  Macys.com, Inc., 685 Market Street, San Franci...  1035  0  2480\n",
        "\n",
        "[2 rows x 6 columns]"
       ]
      }
     ],
     "prompt_number": 33
    },
    {
     "cell_type": "markdown",
     "metadata": {},
     "source": [
      "> **Your Turn!** Which is the widest span on the page?"
     ]
    },
    {
     "cell_type": "code",
     "collapsed": false,
     "input": [
      "%load -r 1-1 solutions/sol1.py"
     ],
     "language": "python",
     "metadata": {},
     "outputs": [],
     "prompt_number": 38
    },
    {
     "cell_type": "code",
     "collapsed": false,
     "input": [
      "datafrmae['']"
     ],
     "language": "python",
     "metadata": {},
     "outputs": []
    },
    {
     "cell_type": "raw",
     "metadata": {},
     "source": []
    },
    {
     "cell_type": "raw",
     "metadata": {},
     "source": []
    },
    {
     "cell_type": "code",
     "collapsed": false,
     "input": [
      "%load?"
     ],
     "language": "python",
     "metadata": {},
     "outputs": [],
     "prompt_number": 37
    },
    {
     "cell_type": "code",
     "collapsed": false,
     "input": [],
     "language": "python",
     "metadata": {},
     "outputs": []
    }
   ],
   "metadata": {}
  }
 ]
}