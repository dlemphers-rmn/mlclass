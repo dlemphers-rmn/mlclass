{
 "metadata": {
  "name": "",
  "signature": "sha256:76d4dacc3176b7b3b94652d0262f3b79c24bb607bb2d2460c67e2a10fdef43a3"
 },
 "name": "MLBootCamp_Classification",
 "nbformat": 2,
 "worksheets": [
  {
   "cells": [
    {
     "cell_type": "markdown",
     "source": [
      "Load Data"
     ]
    },
    {
     "cell_type": "code",
     "collapsed": false,
     "input": [
      "import pickle\n",
      "data = pickle.load( open( \"C:\\\\Users\\\\annette\\\\MLBootcampData_Classification.p\", \"rb\" ) )\n",
      "Y = data[:,-1]\n",
      "X = data[:,:-1]\n",
      "print(\"Feature matrix dimension:\")\n",
      "print(X.shape)\n",
      "print(\"Target vector dimension:\")\n",
      "print(Y.shape)"
     ],
     "language": "python",
     "outputs": [
      {
       "output_type": "stream",
       "stream": "stdout",
       "text": [
        "Feature matrix dimension:\n",
        "(374L, 28L)\n",
        "Target vector dimension:\n",
        "(374L,)"
       ]
      }
     ],
     "prompt_number": 21
    },
    {
     "cell_type": "markdown",
     "source": [
      "Standardize data"
     ]
    },
    {
     "cell_type": "code",
     "collapsed": true,
     "input": [
      "from sklearn import preprocessing \n",
      "X = preprocessing.scale(X)"
     ],
     "language": "python",
     "outputs": [],
     "prompt_number": 22
    },
    {
     "cell_type": "markdown",
     "source": [
      "Standardized data has zero mean and unit variance"
     ]
    },
    {
     "cell_type": "code",
     "collapsed": false,
     "input": [
      "mn = X.mean(axis=0)\n",
      "print(\"Mean Array:\")\n",
      "print(mn)\n",
      "std = X.std(axis=0)\n",
      "print(\"Standard Deviation Array:\")\n",
      "print(std)"
     ],
     "language": "python",
     "outputs": [
      {
       "output_type": "stream",
       "stream": "stdout",
       "text": [
        "Mean Array:\n",
        "[  3.77594569e-16   1.33909520e-15  -2.36768418e-15  -3.44347248e-16\n",
        "   1.77041982e-15  -1.29011478e-15  -5.33701128e-16  -3.75947045e-15\n",
        "   4.48245125e-15  -2.39974410e-15   5.02865723e-16   1.60121470e-15\n",
        "   3.23181767e-15   1.79001199e-15   5.04053127e-16  -2.83730259e-15\n",
        "   2.02541489e-15  -1.34889129e-15   2.39113542e-16   1.07578830e-15\n",
        "  -2.57547994e-15  -6.76523602e-16  -3.05660132e-15   3.05756608e-15\n",
        "   2.91032795e-15  -3.50877972e-15  -4.56349159e-15  -2.29762733e-15]\n",
        "Standard Deviation Array:\n",
        "[ 1.  1.  1.  1.  1.  1.  1.  1.  1.  1.  1.  1.  1.  1.  1.  1.  1.  1.\n",
        "  1.  1.  1.  1.  1.  1.  1.  1.  1.  1.]"
       ]
      }
     ],
     "prompt_number": 23
    },
    {
     "cell_type": "markdown",
     "source": [
      "Split data into training and test sets"
     ]
    },
    {
     "cell_type": "code",
     "collapsed": true,
     "input": [
      "from sklearn import cross_validation\n",
      "X_train, X_test, Y_train, Y_test = cross_validation.train_test_split(X, Y, test_size=0.4, random_state = 0)"
     ],
     "language": "python",
     "outputs": [],
     "prompt_number": 32
    },
    {
     "cell_type": "markdown",
     "source": [
      "Instantiate a Support Vector Classifier (SVC) and train it using X_train,Y_train"
     ]
    },
    {
     "cell_type": "code",
     "collapsed": true,
     "input": [
      "from sklearn import svm\n",
      "clf = svm.SVC(kernel='linear', C=1).fit(X_train, Y_train)"
     ],
     "language": "python",
     "outputs": [],
     "prompt_number": 33
    },
    {
     "cell_type": "markdown",
     "source": [
      "Use test data set to get an estimate of model accuracy for unseen data"
     ]
    },
    {
     "cell_type": "code",
     "collapsed": false,
     "input": [
      "accuracy = clf.score(X_test, Y_test)\n",
      "print(\"Accuracy: %0.2f\" % (accuracy))"
     ],
     "language": "python",
     "outputs": [
      {
       "output_type": "stream",
       "stream": "stdout",
       "text": [
        "Accuracy: 0.80"
       ]
      }
     ],
     "prompt_number": 34
    },
    {
     "cell_type": "markdown",
     "source": [
      "Create a confusion matrix to evaluate the quality of the classifier output."
     ]
    },
    {
     "cell_type": "code",
     "collapsed": false,
     "input": [
      "from sklearn.metrics import confusion_matrix\n",
      "Y_pred = clf.predict(X_test);\n",
      "cm = confusion_matrix(Y_test, Y_pred)\n",
      "print(\"Confusion Matrix:\")\n",
      "print(cm)"
     ],
     "language": "python",
     "outputs": [
      {
       "output_type": "stream",
       "stream": "stdout",
       "text": [
        "Confusion Matrix:\n",
        "[[52 11]\n",
        " [19 68]]"
       ]
      }
     ],
     "prompt_number": 27
    },
    {
     "cell_type": "markdown",
     "source": [
      "Use 10-fold cross validation to get a better estimate of model accuracy"
     ]
    },
    {
     "cell_type": "code",
     "collapsed": false,
     "input": [
      "clf = svm.SVC(kernel='linear', C=1);\n",
      "scores = cross_validation.cross_val_score(clf,X,Y,cv=10)\n",
      "print(\"Accuracy: %0.2f (+/- %0.2f)\" % (scores.mean(), scores.std() * 2)) "
     ],
     "language": "python",
     "outputs": [
      {
       "output_type": "stream",
       "stream": "stdout",
       "text": [
        "Accuracy: 0.77 (+/- 0.15)"
       ]
      }
     ],
     "prompt_number": 28
    },
    {
     "cell_type": "markdown",
     "source": [
      "Use grid search to find optimal hyperparameter settings"
     ]
    },
    {
     "cell_type": "code",
     "collapsed": false,
     "input": [
      "from sklearn.grid_search import GridSearchCV\n",
      "tuned_parameters = [{'kernel': ['rbf'], 'gamma': [1e-3, 1e-4],'C': [1, 10, 100]},{'kernel': ['linear'], 'C': [1, 10, 100]}]\n",
      "clf = GridSearchCV(svm.SVC(), tuned_parameters, cv=5,verbose = 2)\n",
      "clf.fit(X, Y)"
     ],
     "language": "python",
     "outputs": [
      {
       "output_type": "stream",
       "stream": "stdout",
       "text": [
        "[GridSearchCV] kernel=rbf, C=1, gamma=0.001 ....................................\n",
        "[GridSearchCV] ........................... kernel=rbf, C=1, gamma=0.001 -   0.0s\n",
        "[GridSearchCV] kernel=rbf, C=1, gamma=0.001 ....................................\n",
        "[GridSearchCV] ........................... kernel=rbf, C=1, gamma=0.001 -   0.0s"
       ]
      },
      {
       "output_type": "stream",
       "stream": "stdout",
       "text": [
        "\n",
        "[GridSearchCV] kernel=rbf, C=1, gamma=0.001 ....................................\n",
        "[GridSearchCV] ........................... kernel=rbf, C=1, gamma=0.001 -   0.0s\n",
        "[GridSearchCV] kernel=rbf, C=1, gamma=0.001 ....................................\n",
        "[GridSearchCV] ........................... kernel=rbf, C=1, gamma=0.001 -   0.0s"
       ]
      },
      {
       "output_type": "stream",
       "stream": "stdout",
       "text": [
        "\n",
        "[GridSearchCV] kernel=rbf, C=1, gamma=0.001 ....................................\n",
        "[GridSearchCV] ........................... kernel=rbf, C=1, gamma=0.001 -   0.0s\n",
        "[GridSearchCV] kernel=rbf, C=1, gamma=0.0001 ...................................\n",
        "[GridSearchCV] .......................... kernel=rbf, C=1, gamma=0.0001 -   0.0s"
       ]
      },
      {
       "output_type": "stream",
       "stream": "stdout",
       "text": [
        "\n",
        "[GridSearchCV] kernel=rbf, C=1, gamma=0.0001 ...................................\n",
        "[GridSearchCV] .......................... kernel=rbf, C=1, gamma=0.0001 -   0.0s\n",
        "[GridSearchCV] kernel=rbf, C=1, gamma=0.0001 ...................................\n",
        "[GridSearchCV] .......................... kernel=rbf, C=1, gamma=0.0001 -   0.0s"
       ]
      },
      {
       "output_type": "stream",
       "stream": "stdout",
       "text": [
        "\n",
        "[GridSearchCV] kernel=rbf, C=1, gamma=0.0001 ...................................\n",
        "[GridSearchCV] .......................... kernel=rbf, C=1, gamma=0.0001 -   0.0s\n",
        "[GridSearchCV] kernel=rbf, C=1, gamma=0.0001 ...................................\n",
        "[GridSearchCV] .......................... kernel=rbf, C=1, gamma=0.0001 -   0.0s"
       ]
      },
      {
       "output_type": "stream",
       "stream": "stdout",
       "text": [
        "\n",
        "[GridSearchCV] kernel=rbf, C=10, gamma=0.001 ...................................\n",
        "[GridSearchCV] .......................... kernel=rbf, C=10, gamma=0.001 -   0.0s\n",
        "[GridSearchCV] kernel=rbf, C=10, gamma=0.001 ...................................\n",
        "[GridSearchCV] .......................... kernel=rbf, C=10, gamma=0.001 -   0.0s\n",
        "[GridSearchCV] kernel=rbf, C=10, gamma=0.001 ...................................\n",
        "[GridSearchCV] .......................... kernel=rbf, C=10, gamma=0.001 -   0.0s"
       ]
      },
      {
       "output_type": "stream",
       "stream": "stdout",
       "text": [
        "\n",
        "[GridSearchCV] kernel=rbf, C=10, gamma=0.001 ...................................\n",
        "[GridSearchCV] .......................... kernel=rbf, C=10, gamma=0.001 -   0.0s\n",
        "[GridSearchCV] kernel=rbf, C=10, gamma=0.001 ...................................\n",
        "[GridSearchCV] .......................... kernel=rbf, C=10, gamma=0.001 -   0.0s\n",
        "[GridSearchCV] kernel=rbf, C=10, gamma=0.0001 ..................................\n",
        "[GridSearchCV] ......................... kernel=rbf, C=10, gamma=0.0001 -   0.0s"
       ]
      },
      {
       "output_type": "stream",
       "stream": "stdout",
       "text": [
        "\n",
        "[GridSearchCV] kernel=rbf, C=10, gamma=0.0001 ..................................\n",
        "[GridSearchCV] ......................... kernel=rbf, C=10, gamma=0.0001 -   0.0s\n",
        "[GridSearchCV] kernel=rbf, C=10, gamma=0.0001 ..................................\n",
        "[GridSearchCV] ......................... kernel=rbf, C=10, gamma=0.0001 -   0.0s"
       ]
      },
      {
       "output_type": "stream",
       "stream": "stdout",
       "text": [
        "\n",
        "[GridSearchCV] kernel=rbf, C=10, gamma=0.0001 ..................................\n",
        "[GridSearchCV] ......................... kernel=rbf, C=10, gamma=0.0001 -   0.0s\n",
        "[GridSearchCV] kernel=rbf, C=10, gamma=0.0001 ..................................\n",
        "[GridSearchCV] ......................... kernel=rbf, C=10, gamma=0.0001 -   0.0s"
       ]
      },
      {
       "output_type": "stream",
       "stream": "stdout",
       "text": [
        "\n",
        "[GridSearchCV] kernel=rbf, C=100, gamma=0.001 ..................................\n",
        "[GridSearchCV] ......................... kernel=rbf, C=100, gamma=0.001 -   0.0s\n",
        "[GridSearchCV] kernel=rbf, C=100, gamma=0.001 ..................................\n",
        "[GridSearchCV] ......................... kernel=rbf, C=100, gamma=0.001 -   0.0s"
       ]
      },
      {
       "output_type": "stream",
       "stream": "stdout",
       "text": [
        "\n",
        "[GridSearchCV] kernel=rbf, C=100, gamma=0.001 ..................................\n",
        "[GridSearchCV] ......................... kernel=rbf, C=100, gamma=0.001 -   0.0s\n",
        "[GridSearchCV] kernel=rbf, C=100, gamma=0.001 ..................................\n",
        "[GridSearchCV] ......................... kernel=rbf, C=100, gamma=0.001 -   0.0s"
       ]
      },
      {
       "output_type": "stream",
       "stream": "stdout",
       "text": [
        "\n",
        "[GridSearchCV] kernel=rbf, C=100, gamma=0.001 ..................................\n",
        "[GridSearchCV] ......................... kernel=rbf, C=100, gamma=0.001 -   0.0s\n",
        "[GridSearchCV] kernel=rbf, C=100, gamma=0.0001 .................................\n",
        "[GridSearchCV] ........................ kernel=rbf, C=100, gamma=0.0001 -   0.0s"
       ]
      },
      {
       "output_type": "stream",
       "stream": "stdout",
       "text": [
        "\n",
        "[GridSearchCV] kernel=rbf, C=100, gamma=0.0001 .................................\n",
        "[GridSearchCV] ........................ kernel=rbf, C=100, gamma=0.0001 -   0.0s\n",
        "[GridSearchCV] kernel=rbf, C=100, gamma=0.0001 .................................\n",
        "[GridSearchCV] ........................ kernel=rbf, C=100, gamma=0.0001 -   0.0s\n",
        "[GridSearchCV] kernel=rbf, C=100, gamma=0.0001 ................................."
       ]
      },
      {
       "output_type": "stream",
       "stream": "stdout",
       "text": [
        "\n",
        "[GridSearchCV] ........................ kernel=rbf, C=100, gamma=0.0001 -   0.0s\n",
        "[GridSearchCV] kernel=rbf, C=100, gamma=0.0001 .................................\n",
        "[GridSearchCV] ........................ kernel=rbf, C=100, gamma=0.0001 -   0.0s"
       ]
      },
      {
       "output_type": "stream",
       "stream": "stdout",
       "text": [
        "\n",
        "[GridSearchCV] kernel=linear, C=1 ..............................................\n",
        "[GridSearchCV] ..................................... kernel=linear, C=1 -   0.0s\n",
        "[GridSearchCV] kernel=linear, C=1 ..............................................\n",
        "[GridSearchCV] ..................................... kernel=linear, C=1 -   0.0s"
       ]
      },
      {
       "output_type": "stream",
       "stream": "stdout",
       "text": [
        "\n",
        "[GridSearchCV] kernel=linear, C=1 ..............................................\n",
        "[GridSearchCV] ..................................... kernel=linear, C=1 -   0.0s\n",
        "[GridSearchCV] kernel=linear, C=1 ..............................................\n",
        "[GridSearchCV] ..................................... kernel=linear, C=1 -   0.0s"
       ]
      },
      {
       "output_type": "stream",
       "stream": "stdout",
       "text": [
        "\n",
        "[GridSearchCV] kernel=linear, C=1 ..............................................\n",
        "[GridSearchCV] ..................................... kernel=linear, C=1 -   0.0s\n",
        "[GridSearchCV] kernel=linear, C=10 .............................................\n",
        "[GridSearchCV] .................................... kernel=linear, C=10 -   0.1s"
       ]
      },
      {
       "output_type": "stream",
       "stream": "stdout",
       "text": [
        "\n",
        "[GridSearchCV] kernel=linear, C=10 .............................................\n",
        "[GridSearchCV] .................................... kernel=linear, C=10 -   0.1s"
       ]
      },
      {
       "output_type": "stream",
       "stream": "stdout",
       "text": [
        "\n",
        "[GridSearchCV] kernel=linear, C=10 .............................................\n",
        "[GridSearchCV] .................................... kernel=linear, C=10 -   0.2s"
       ]
      },
      {
       "output_type": "stream",
       "stream": "stdout",
       "text": [
        "\n",
        "[GridSearchCV] kernel=linear, C=10 .............................................\n",
        "[GridSearchCV] .................................... kernel=linear, C=10 -   0.2s"
       ]
      },
      {
       "output_type": "stream",
       "stream": "stdout",
       "text": [
        "\n",
        "[GridSearchCV] kernel=linear, C=10 .............................................\n",
        "[GridSearchCV] .................................... kernel=linear, C=10 -   0.2s"
       ]
      },
      {
       "output_type": "stream",
       "stream": "stdout",
       "text": [
        "\n",
        "[GridSearchCV] kernel=linear, C=100 ............................................\n",
        "[GridSearchCV] ................................... kernel=linear, C=100 -   1.8s"
       ]
      },
      {
       "output_type": "stream",
       "stream": "stderr",
       "text": [
        "[Parallel(n_jobs=1)]: Done   1 jobs       | elapsed:    0.0s\n",
        "[Parallel(n_jobs=1)]: Done  41 jobs       | elapsed:    4.1s"
       ]
      },
      {
       "output_type": "stream",
       "stream": "stdout",
       "text": [
        "\n",
        "[GridSearchCV] kernel=linear, C=100 ............................................\n",
        "[GridSearchCV] ................................... kernel=linear, C=100 -   2.0s"
       ]
      },
      {
       "output_type": "stream",
       "stream": "stdout",
       "text": [
        "\n",
        "[GridSearchCV] kernel=linear, C=100 ............................................\n",
        "[GridSearchCV] ................................... kernel=linear, C=100 -   1.6s"
       ]
      },
      {
       "output_type": "stream",
       "stream": "stdout",
       "text": [
        "\n",
        "[GridSearchCV] kernel=linear, C=100 ............................................\n",
        "[GridSearchCV] ................................... kernel=linear, C=100 -   2.5s"
       ]
      },
      {
       "output_type": "stream",
       "stream": "stdout",
       "text": [
        "\n",
        "[GridSearchCV] kernel=linear, C=100 ............................................\n",
        "[GridSearchCV] ................................... kernel=linear, C=100 -   2.2s"
       ]
      },
      {
       "output_type": "stream",
       "stream": "stdout",
       "text": []
      },
      {
       "output_type": "stream",
       "stream": "stderr",
       "text": [
        "[Parallel(n_jobs=1)]: Done  45 out of  45 | elapsed:   12.8s finished"
       ]
      },
      {
       "output_type": "pyout",
       "prompt_number": 29,
       "text": [
        "GridSearchCV(cv=5,\n",
        "       estimator=SVC(C=1.0, cache_size=200, class_weight=None, coef0=0.0, degree=3, gamma=0.0,\n",
        "  kernel='rbf', max_iter=-1, probability=False, shrinking=True, tol=0.001,\n",
        "  verbose=False),\n",
        "       fit_params={}, iid=True, loss_func=None, n_jobs=1,\n",
        "       param_grid=[{'kernel': ['rbf'], 'C': [1, 10, 100], 'gamma': [0.001, 0.0001]}, {'kernel': ['linear'], 'C': [1, 10, 100]}],\n",
        "       pre_dispatch='2*n_jobs', refit=True, score_func=None, verbose=2)"
       ]
      }
     ],
     "prompt_number": 29
    },
    {
     "cell_type": "markdown",
     "source": [
      "Best parameters"
     ]
    },
    {
     "cell_type": "code",
     "collapsed": false,
     "input": [
      "clf_BestEstimator = clf.best_estimator_\n",
      "print(clf_BestEstimator)"
     ],
     "language": "python",
     "outputs": [
      {
       "output_type": "stream",
       "stream": "stdout",
       "text": [
        "SVC(C=10, cache_size=200, class_weight=None, coef0=0.0, degree=3, gamma=0.001,\n",
        "  kernel=rbf, max_iter=-1, probability=False, shrinking=True, tol=0.001,\n",
        "  verbose=False)"
       ]
      }
     ],
     "prompt_number": 30
    },
    {
     "cell_type": "markdown",
     "source": [
      "Compare model accuracies"
     ]
    },
    {
     "cell_type": "code",
     "collapsed": false,
     "input": [
      "print(\"Initial Guess:\")\n",
      "clf = svm.SVC(kernel='linear',C=1);\n",
      "scores = cross_validation.cross_val_score(clf, X, Y, cv=5)\n",
      "print(\"Accuracy: %0.2f (+/- %0.2f)\" % (scores.mean(), scores.std() * 2))\n",
      "\n",
      "print(\"Optimal Parameters (Grid Search):\")\n",
      "scores = cross_validation.cross_val_score(clf_BestEstimator, X, Y, cv=5)\n",
      "print(\"Accuracy: %0.2f (+/- %0.2f)\" % (scores.mean(), scores.std() * 2))"
     ],
     "language": "python",
     "outputs": [
      {
       "output_type": "stream",
       "stream": "stdout",
       "text": [
        "Initial Guess:\n",
        "Accuracy: 0.78 (+/- 0.13)"
       ]
      },
      {
       "output_type": "stream",
       "stream": "stdout",
       "text": [
        "\n",
        "Optimal Parameters (Grid Search):\n",
        "Accuracy: 0.79 (+/- 0.11)"
       ]
      },
      {
       "output_type": "stream",
       "stream": "stdout",
       "text": []
      }
     ],
     "prompt_number": 31
    }
   ]
  }
 ]
}