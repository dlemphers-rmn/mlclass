{
 "metadata": {
  "name": "",
  "signature": "sha256:4657f547575052b35a682b530312e61ca853f7b1d5c713a899bcbd76bba4a551"
 },
 "nbformat": 3,
 "nbformat_minor": 0,
 "worksheets": [
  {
   "cells": [
    {
     "cell_type": "heading",
     "level": 1,
     "metadata": {},
     "source": [
      "Classification\n"
     ]
    },
    {
     "cell_type": "heading",
     "level": 2,
     "metadata": {},
     "source": [
      "Overview"
     ]
    },
    {
     "cell_type": "markdown",
     "metadata": {},
     "source": [
      "Develop model that can be used to make accurate predictions\n",
      "<img src=\"./data/IntroClassificationSlide.png\"/>\n",
      "\n",
      "\n"
     ]
    },
    {
     "cell_type": "heading",
     "level": 2,
     "metadata": {},
     "source": [
      "Support Vector Machines"
     ]
    },
    {
     "cell_type": "markdown",
     "metadata": {},
     "source": [
      "<img src=\"./data/SVM1.png\"/>\n",
      "Image: www.cs.utexas.edu/~mooney/cs391L/slides/svm.ppt"
     ]
    },
    {
     "cell_type": "heading",
     "level": 3,
     "metadata": {},
     "source": [
      "Which decision boundary is the best?"
     ]
    },
    {
     "cell_type": "markdown",
     "metadata": {},
     "source": [
      "<img src=\"./data/SVM2.png\"/>\n",
      "\n",
      "\n",
      "Images: www.cs.utexas.edu/~mooney/cs391L/slides/svm.ppt"
     ]
    },
    {
     "cell_type": "heading",
     "level": 3,
     "metadata": {},
     "source": [
      "SVM Kernels"
     ]
    },
    {
     "cell_type": "heading",
     "level": 2,
     "metadata": {},
     "source": [
      "<img src=\"./data/SVMKernel.png\"/>"
     ]
    },
    {
     "cell_type": "heading",
     "level": 3,
     "metadata": {},
     "source": [
      "Hyperparameters"
     ]
    },
    {
     "cell_type": "markdown",
     "metadata": {},
     "source": [
      "<img src=\"./data/SVM3.png\"/>\n",
      "\n",
      "Image: www.cs.colostate.edu/~asa/pdfs/howto.pdf"
     ]
    },
    {
     "cell_type": "heading",
     "level": 3,
     "metadata": {},
     "source": [
      "Accuracy"
     ]
    },
    {
     "cell_type": "markdown",
     "metadata": {},
     "source": [
      "\n",
      "<img src=\"./data/Accuracy.png\"/>\n",
      "\n",
      "Image: courses.cs.tamu.edu/rgutier/ceg499_s02/l13.pdf\n",
      "\n",
      "Image: http://aimotion.blogspot.com/2010/08/tools-for-machine-learning-performance.html"
     ]
    },
    {
     "cell_type": "heading",
     "level": 2,
     "metadata": {},
     "source": [
      "Exercise"
     ]
    },
    {
     "cell_type": "heading",
     "level": 3,
     "metadata": {},
     "source": [
      "Create Dataset"
     ]
    },
    {
     "cell_type": "code",
     "collapsed": false,
     "input": [
      "from sklearn.datasets import make_moons\n",
      "import numpy as np\n",
      "import matplotlib.pyplot as plt\n",
      "%matplotlib inline\n",
      "\n",
      "# Create a 2D data set \n",
      "X, Y = make_moons(noise=0.2,random_state = 1,n_samples = 1000)\n",
      "\n",
      "# Identify sample classes\n",
      "class0_actual = np.where(Y==0);\n",
      "class1_actual = np.where(Y==1);\n",
      "\n",
      "# Plot data\n",
      "plt.scatter(X[class0_actual,0],X[class0_actual,1],c = '0.8')\n",
      "plt.scatter(X[class1_actual,0],X[class1_actual,1],c = 'k')"
     ],
     "language": "python",
     "metadata": {},
     "outputs": []
    },
    {
     "cell_type": "heading",
     "level": 3,
     "metadata": {},
     "source": [
      "Create Training and Test Sets"
     ]
    },
    {
     "cell_type": "code",
     "collapsed": false,
     "input": [
      "from sklearn import cross_validation\n",
      "X_train, X_test, Y_train, Y_test = cross_validation.train_test_split(X, Y, test_size=0.4, random_state = 0)"
     ],
     "language": "python",
     "metadata": {},
     "outputs": []
    },
    {
     "cell_type": "heading",
     "level": 3,
     "metadata": {},
     "source": [
      "Instantiate an SVM with an Linear Kernel"
     ]
    },
    {
     "cell_type": "code",
     "collapsed": false,
     "input": [
      "from sklearn import svm\n",
      "clf = svm.SVC(kernel='linear', C=1).fit(X_train, Y_train)"
     ],
     "language": "python",
     "metadata": {},
     "outputs": []
    },
    {
     "cell_type": "heading",
     "level": 3,
     "metadata": {},
     "source": [
      "Measure Accuracy"
     ]
    },
    {
     "cell_type": "code",
     "collapsed": false,
     "input": [
      "from sklearn.metrics import accuracy_score\n",
      "\n",
      "accuracy = clf.score(X_test, Y_test)\n",
      "print(\"Accuracy 2: %0.2f\" % (accuracy))"
     ],
     "language": "python",
     "metadata": {},
     "outputs": []
    },
    {
     "cell_type": "code",
     "collapsed": false,
     "input": [
      "from sklearn.metrics import confusion_matrix\n",
      "Y_pred = clf.predict(X_test);\n",
      "cm = confusion_matrix(Y_test, Y_pred)\n",
      "print(\"Confusion Matrix:\")\n",
      "print(cm)"
     ],
     "language": "python",
     "metadata": {},
     "outputs": []
    },
    {
     "cell_type": "code",
     "collapsed": false,
     "input": [
      "scores = cross_validation.cross_val_score(clf,X,Y,cv=10,scoring='accuracy')\n",
      "print(\"Accuracy: %0.2f (+/- %0.2f)\" % (scores.mean(), scores.std() * 2)) "
     ],
     "language": "python",
     "metadata": {},
     "outputs": []
    },
    {
     "cell_type": "heading",
     "level": 3,
     "metadata": {},
     "source": [
      "Plot Data Classification"
     ]
    },
    {
     "cell_type": "code",
     "collapsed": false,
     "input": [
      "import numpy as np\n",
      "import matplotlib.pyplot as plt\n",
      "%matplotlib inline\n",
      "\n",
      "Y_pred = clf.predict(X);\n",
      "\n",
      "# Identify sample classes\n",
      "class0 = np.where(Y_pred==0);\n",
      "class1 = np.where(Y_pred==1);\n",
      "\n",
      "# Plot data\n",
      "plt.subplot(1, 2, 1)\n",
      "plt.scatter(X[class0,0],X[class0,1],c = 'r')\n",
      "plt.scatter(X[class1,0],X[class1,1],c = 'b')\n",
      "plt.title('Predicted Classes')\n",
      "\n",
      "plt.subplot(1,2,2)\n",
      "plt.scatter(X[class0_actual,0],X[class0_actual,1],c = '0.8')\n",
      "plt.scatter(X[class1_actual,0],X[class1_actual,1],c = 'k')\n",
      "plt.title('Actual Classes')\n",
      "\n"
     ],
     "language": "python",
     "metadata": {},
     "outputs": []
    },
    {
     "cell_type": "heading",
     "level": 3,
     "metadata": {},
     "source": [
      "Can we do better? RBF Kernel?"
     ]
    },
    {
     "cell_type": "code",
     "collapsed": false,
     "input": [
      "clf = svm.SVC(kernel='rbf',gamma=1,C=1).fit(X_train,Y_train)"
     ],
     "language": "python",
     "metadata": {},
     "outputs": []
    },
    {
     "cell_type": "code",
     "collapsed": false,
     "input": [
      "scores = cross_validation.cross_val_score(clf,X,Y,cv=10,scoring='accuracy')\n",
      "print(\"Accuracy: %0.2f (+/- %0.2f)\" % (scores.mean(), scores.std() * 2)) "
     ],
     "language": "python",
     "metadata": {},
     "outputs": []
    },
    {
     "cell_type": "code",
     "collapsed": false,
     "input": [
      "from sklearn.metrics import confusion_matrix\n",
      "Y_pred = clf.predict(X_test);\n",
      "cm = confusion_matrix(Y_test, Y_pred)\n",
      "print(\"Confusion Matrix:\")\n",
      "print(cm)"
     ],
     "language": "python",
     "metadata": {},
     "outputs": []
    },
    {
     "cell_type": "heading",
     "level": 3,
     "metadata": {},
     "source": [
      "Plot Data Classification"
     ]
    },
    {
     "cell_type": "code",
     "collapsed": false,
     "input": [
      "import numpy as np\n",
      "\n",
      "# Get predicted classes for all data\n",
      "Y_pred = clf.predict(X);\n",
      "\n",
      "# Identify sample classes\n",
      "class0 = np.where(Y_pred==0);\n",
      "class1 = np.where(Y_pred==1);\n",
      "\n",
      "# Plot data\n",
      "plt.subplot(1, 2, 1)\n",
      "plt.scatter(X[class0,0],X[class0,1],c = 'r')\n",
      "plt.scatter(X[class1,0],X[class1,1],c = 'b')\n",
      "plt.title('Predicted Classes')\n",
      "\n",
      "plt.subplot(1,2,2)\n",
      "plt.scatter(X[class0_actual,0],X[class0_actual,1],c = '0.8')\n",
      "plt.scatter(X[class1_actual,0],X[class1_actual,1],c = 'k')\n",
      "plt.title('Actual Classes')"
     ],
     "language": "python",
     "metadata": {},
     "outputs": []
    },
    {
     "cell_type": "heading",
     "level": 3,
     "metadata": {},
     "source": [
      "Did we choose the best hyperparameters?"
     ]
    },
    {
     "cell_type": "code",
     "collapsed": false,
     "input": [
      "from sklearn.grid_search import GridSearchCV\n",
      "\n",
      "tuned_parameters = [{'kernel': ['rbf'], 'gamma': [1e-3, 1e-2, 1],'C': [1, 10, 100]},{'kernel': ['linear'], 'C': [1, 10, 100]}]\n",
      "clf = GridSearchCV(svm.SVC(), tuned_parameters, cv=10,verbose = 2)\n",
      "clf.fit(X, Y)"
     ],
     "language": "python",
     "metadata": {},
     "outputs": []
    },
    {
     "cell_type": "heading",
     "level": 3,
     "metadata": {},
     "source": [
      "Best estimator"
     ]
    },
    {
     "cell_type": "code",
     "collapsed": false,
     "input": [
      "clf_BestEstimator = clf.best_estimator_\n",
      "print(clf_BestEstimator)"
     ],
     "language": "python",
     "metadata": {},
     "outputs": []
    },
    {
     "cell_type": "code",
     "collapsed": false,
     "input": [
      "print(\"Initial Guess:\")\n",
      " \n",
      "clf = svm.SVC(kernel='rbf',gamma = 1, C=1);\n",
      "scores = cross_validation.cross_val_score(clf, X, Y, cv=10)\n",
      "print(\"Accuracy: %0.2f (+/- %0.2f)\" % (scores.mean(), scores.std() * 2))\n",
      "print(\"\")\n",
      "\n",
      "print(\"Optimal Parameters (Grid Search):\")\n",
      "clf = svm.SVC(kernel='rbf',gamma = 1, C=100);\n",
      "scores = cross_validation.cross_val_score(clf, X, Y, cv=10)\n",
      "print(\"Accuracy: %0.2f (+/- %0.2f)\" % (scores.mean(), scores.std() * 2))\n"
     ],
     "language": "python",
     "metadata": {},
     "outputs": []
    },
    {
     "cell_type": "code",
     "collapsed": false,
     "input": [],
     "language": "python",
     "metadata": {},
     "outputs": []
    }
   ],
   "metadata": {}
  }
 ]
}