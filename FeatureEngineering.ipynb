{
 "metadata": {
  "name": "",
  "signature": "sha256:50c1cf825554fcd67f36ad9b5537d9b4ee5ee0b00c5b4e81c0fd696ee18bc2e4"
 },
 "nbformat": 3,
 "nbformat_minor": 0,
 "worksheets": [
  {
   "cells": [
    {
     "cell_type": "heading",
     "level": 1,
     "metadata": {},
     "source": [
      "Feature Engineering"
     ]
    },
    {
     "cell_type": "heading",
     "level": 3,
     "metadata": {},
     "source": [
      "It's not magic, it's math!"
     ]
    },
    {
     "cell_type": "markdown",
     "metadata": {},
     "source": [
      "Feature engineering is a crucial, yet commonly neglected technique, in machine learning. Datasets in their original form are rarely in such a way, that when modelled, provide outstanding results. A small amount of feature engineering, can significanly enhance a machine learning model, or in some case, create new insights. \n",
      "\n",
      "In this session, we will focus on three key tools used in feature engineering, and use them to create a machine learning classifier. The goal of this session is to empower you to use these valuable tools and techniques in your day to day activities as machine learning engineers.\n",
      "\n",
      "We will be using:\n",
      "\n",
      "- [Pandas](http://pandas.pydata.org/)\n",
      "- [matplotlib](http://matplotlib.org/)\n",
      "- [scikit-learn](http://scikit-learn.org/stable/)"
     ]
    },
    {
     "cell_type": "heading",
     "level": 2,
     "metadata": {},
     "source": [
      "Exercise 1 - Load some data"
     ]
    },
    {
     "cell_type": "markdown",
     "metadata": {},
     "source": [
      "Let's start by loading a dataset which is based on the following webpages:\n",
      "\n",
      "<table>\n",
      "<tr>\n",
      "<td><img width=200 height=150 src=\"./data/featureengineering/1398282399_thumb.png\"/></td>\n",
      "<td><img width=200 height=150 src=\"./data/featureengineering/1398282433_thumb.png\"/></td>\n",
      "<td><img width=200 height=150 src=\"./data/featureengineering/1398282478_thumb.png\"/></td>\n",
      "<td><img width=200 height=150 src=\"./data/featureengineering/1398282519_thumb.png\"/></td>\n",
      "</tr>\n",
      "</table>"
     ]
    },
    {
     "cell_type": "code",
     "collapsed": false,
     "input": [
      "import pickle\n",
      "pages = pickle.load(open('./data/pages.pkl', 'r'))\n",
      "page = pages[0]"
     ],
     "language": "python",
     "metadata": {},
     "outputs": []
    },
    {
     "cell_type": "markdown",
     "metadata": {},
     "source": [
      "Each page has the following fields:"
     ]
    },
    {
     "cell_type": "code",
     "collapsed": false,
     "input": [
      "print page.keys()"
     ],
     "language": "python",
     "metadata": {},
     "outputs": []
    },
    {
     "cell_type": "markdown",
     "metadata": {},
     "source": [
      "The elements field contains information about all visible text elements on the page, with some metadata:"
     ]
    },
    {
     "cell_type": "code",
     "collapsed": false,
     "input": [
      "print page['elements'][0]"
     ],
     "language": "python",
     "metadata": {},
     "outputs": []
    },
    {
     "cell_type": "markdown",
     "metadata": {},
     "source": [
      "The first thing we want to do, is get this data into a human readable format, to assist with analysis. Let's start by using the most commonly used object in Pandas, the DataFrame"
     ]
    },
    {
     "cell_type": "code",
     "collapsed": false,
     "input": [
      "import pandas as pd # Aliasing Pandas as pd is common, but not necessarily best practice\n",
      "\n",
      "elements = pd.DataFrame(page['elements'])\n",
      "type(elements)"
     ],
     "language": "python",
     "metadata": {},
     "outputs": []
    },
    {
     "cell_type": "markdown",
     "metadata": {},
     "source": [
      "We now have a DataFrame, which has some great utility methods for working with data, but to start with, let's just eyeball the dataset"
     ]
    },
    {
     "cell_type": "code",
     "collapsed": false,
     "input": [
      "elements.head()"
     ],
     "language": "python",
     "metadata": {},
     "outputs": []
    },
    {
     "cell_type": "markdown",
     "metadata": {},
     "source": [
      "This is already useful, we can start to visualize the shape of the data, in a human readable way. We can observe that we have position and size information, the HTML type, and the text of the element. \n",
      "\n",
      "I already have a question though, what is the first visible **p** text element on the page? For this, we can simply sort the table and filter the results to the data we want:"
     ]
    },
    {
     "cell_type": "code",
     "collapsed": false,
     "input": [
      "elements[elements.tag == 'p'].sort(['y']).iloc[0]"
     ],
     "language": "python",
     "metadata": {},
     "outputs": []
    },
    {
     "cell_type": "markdown",
     "metadata": {},
     "source": [
      "> **Your Turn!** Which is the widest span on the page?"
     ]
    },
    {
     "cell_type": "code",
     "collapsed": false,
     "input": [
      "# Type your solution here"
     ],
     "language": "python",
     "metadata": {},
     "outputs": []
    },
    {
     "cell_type": "markdown",
     "metadata": {},
     "source": [
      "**Solution**"
     ]
    },
    {
     "cell_type": "code",
     "collapsed": false,
     "input": [
      "%load -r 1-1 solutions/FeatureEngineering.py"
     ],
     "language": "python",
     "metadata": {},
     "outputs": []
    },
    {
     "cell_type": "heading",
     "level": 2,
     "metadata": {},
     "source": [
      "Exercise 2 - Visualize"
     ]
    },
    {
     "cell_type": "markdown",
     "metadata": {},
     "source": [
      "OK, so next, let's get a feel for the visual shape of the dataset, again, Pandas + IPython provide a powerful environment for visualizing data. First, let's inline matplotlib, so we can see our plots inside the notebook:"
     ]
    },
    {
     "cell_type": "code",
     "collapsed": false,
     "input": [
      "%matplotlib inline"
     ],
     "language": "python",
     "metadata": {},
     "outputs": []
    },
    {
     "cell_type": "markdown",
     "metadata": {},
     "source": [
      "Then, let's answer the question, how do the elements distribute in terms of quanity on the page?"
     ]
    },
    {
     "cell_type": "code",
     "collapsed": false,
     "input": [
      "elements.groupby('tag').count().sort('tag')['tag'].plot(kind='barh')"
     ],
     "language": "python",
     "metadata": {},
     "outputs": []
    },
    {
     "cell_type": "markdown",
     "metadata": {},
     "source": [
      "Wow! Let's break this down a bit. \n",
      "\n",
      "First, we take our **elements** DataFrame, and apply the groupby function to it, grouping by the tag column. This simply returns a groupby object, with our rows grouped by the **tag**. Since we're interested in the count, we apply the **count()** method, which returns a new DataFrame. We sort this by tag, which returns a sorted DataFrame. From this, we select the tag values, and plot them as a horizontal bar graph."
     ]
    },
    {
     "cell_type": "markdown",
     "metadata": {},
     "source": [
      "Another powerful feature of Pandas, is the ability to compute new feature values. For example, given our elements, let's compute the area of the elements:"
     ]
    },
    {
     "cell_type": "code",
     "collapsed": false,
     "input": [
      "elements['area'] = elements['h'] * elements['w']\n",
      "elements.head()"
     ],
     "language": "python",
     "metadata": {},
     "outputs": []
    },
    {
     "cell_type": "markdown",
     "metadata": {},
     "source": [
      "> **Your Turn!** What's the aspect ratio for the elements?"
     ]
    },
    {
     "cell_type": "code",
     "collapsed": false,
     "input": [
      "# Type your solution here"
     ],
     "language": "python",
     "metadata": {},
     "outputs": []
    },
    {
     "cell_type": "markdown",
     "metadata": {},
     "source": [
      "**Solution**"
     ]
    },
    {
     "cell_type": "code",
     "collapsed": false,
     "input": [
      "%load -r 3-4 solutions/FeatureEngineering.py"
     ],
     "language": "python",
     "metadata": {},
     "outputs": []
    },
    {
     "cell_type": "markdown",
     "metadata": {},
     "source": [
      "It may seem trivial, but you have now just engineered two new features that did not exist in the original dataset, but did exist in the data model. What do these new features tell us?"
     ]
    },
    {
     "cell_type": "markdown",
     "metadata": {},
     "source": [
      "> **Your Turn!** Plot these new features so that we can understand the relationship between tags and their areas/aspect ratios"
     ]
    },
    {
     "cell_type": "code",
     "collapsed": false,
     "input": [
      "# Type your area solution here"
     ],
     "language": "python",
     "metadata": {},
     "outputs": []
    },
    {
     "cell_type": "code",
     "collapsed": false,
     "input": [
      "# Type your aspect ratio solution here"
     ],
     "language": "python",
     "metadata": {},
     "outputs": []
    },
    {
     "cell_type": "markdown",
     "metadata": {},
     "source": [
      "**Solutions**"
     ]
    },
    {
     "cell_type": "code",
     "collapsed": false,
     "input": [
      "%load -r 6-6 solutions/FeatureEngineering.py"
     ],
     "language": "python",
     "metadata": {},
     "outputs": []
    },
    {
     "cell_type": "code",
     "collapsed": false,
     "input": [
      "%load -r 8-8 solutions/FeatureEngineering.py"
     ],
     "language": "python",
     "metadata": {},
     "outputs": []
    },
    {
     "cell_type": "heading",
     "level": 2,
     "metadata": {},
     "source": [
      "Exercise 3 - How to train a classifier"
     ]
    },
    {
     "cell_type": "markdown",
     "metadata": {},
     "source": [
      "So, why is any of this useful? Because building a solid data model helps you build solid machine learning model.\n",
      "\n",
      "Let's posit for a second, that there is a relationship between the shape of product pages, and non-product pages. And given a page, and the function above (tag count), that we would like to determine if it's a product page or not.\n",
      "\n",
      "Let's see what that might look like.\n",
      "\n",
      "The first step is to take our grouping, and turn it into a dictionary, we can do this again, using the conveniences built into Pandas:"
     ]
    },
    {
     "cell_type": "code",
     "collapsed": false,
     "input": [
      "elements.groupby('tag').count().sort('tag')['tag'].to_dict()"
     ],
     "language": "python",
     "metadata": {},
     "outputs": []
    },
    {
     "cell_type": "markdown",
     "metadata": {},
     "source": [
      "With this, we now have a set of features we can use to build a model. To train a classifier however, even a simple one for our example, we do need a little more training data.\n",
      "\n",
      "Let's take all the pages and compute their tag counts:"
     ]
    },
    {
     "cell_type": "code",
     "collapsed": false,
     "input": [
      "D = []\n",
      "labels = []\n",
      "\n",
      "for page in pages[1:4]:\n",
      "    page_elements = pd.DataFrame(page['elements'])\n",
      "    D.append(page_elements.groupby('tag').count().sort('tag')['tag'].to_dict())\n",
      "    if 'sears' in page['url']:\n",
      "        labels.append('non-product')\n",
      "    else:\n",
      "        labels.append('product')\n",
      "\n",
      "print D\n",
      "print labels"
     ],
     "language": "python",
     "metadata": {},
     "outputs": []
    },
    {
     "cell_type": "markdown",
     "metadata": {},
     "source": [
      "Also, let's **hold back** our original page, which we know to be a product, to test our classifier"
     ]
    },
    {
     "cell_type": "code",
     "collapsed": false,
     "input": [
      "holdback = elements.groupby('tag').count().sort('tag')['tag'].to_dict()"
     ],
     "language": "python",
     "metadata": {},
     "outputs": []
    },
    {
     "cell_type": "markdown",
     "metadata": {},
     "source": [
      "We then feed this to a very simple, yet powerful classification model, called a Support Vector Machine.\n",
      "\n",
      "We also leverage the dictionary vectorizer to convert our dictionaries into a vectors."
     ]
    },
    {
     "cell_type": "code",
     "collapsed": false,
     "input": [
      "from sklearn import svm\n",
      "from sklearn.feature_extraction import DictVectorizer\n",
      "\n",
      "v = DictVectorizer()\n",
      "X = v.fit_transform(D)\n",
      "\n",
      "clf = svm.SVC(kernel=\"rbf\", gamma=0.1)\n",
      "clf.fit(X, labels)\n",
      "\n",
      "clf.predict(v.transform(holdback))[0]\n"
     ],
     "language": "python",
     "metadata": {},
     "outputs": []
    },
    {
     "cell_type": "markdown",
     "metadata": {},
     "source": [
      "When we vectorize our list of dictionaries, we created a matrix that mapped the dictionary keys as feature names and the values as feature values, along the lines of a=137, strong=24, etc. \n",
      "\n",
      "We then provided this information to the classifier, and labelled the samples, as product or non-product.\n",
      "\n",
      "We then used our classifier to provide a label for our unseen vector, and as hoped, it predicted the label correctly.\n",
      "\n",
      "There are some issues with our toy approach above, namely overfitting, but for the purposes of the exercise, our classifier does as required."
     ]
    },
    {
     "cell_type": "markdown",
     "metadata": {},
     "source": [
      "> **Your Turn!** What happens if we repeat our experiment using a different feature, say surface area or aspect ratio? *Hint*: You can't pass a **nan** value to the classifier, so you might want to think about using [this](http://pandas.pydata.org/pandas-docs/version/0.13.1/generated/pandas.DataFrame.fillna.html)..."
     ]
    },
    {
     "cell_type": "code",
     "collapsed": false,
     "input": [
      "# Type your solution here"
     ],
     "language": "python",
     "metadata": {},
     "outputs": []
    },
    {
     "cell_type": "markdown",
     "metadata": {},
     "source": [
      "**Solution**"
     ]
    },
    {
     "cell_type": "code",
     "collapsed": false,
     "input": [
      "%load -r 14-34 solutions/FeatureEngineering.py"
     ],
     "language": "python",
     "metadata": {},
     "outputs": []
    },
    {
     "cell_type": "heading",
     "level": 1,
     "metadata": {},
     "source": [
      "Finished!"
     ]
    },
    {
     "cell_type": "markdown",
     "metadata": {},
     "source": [
      "Things to keep in mind:\n",
      "    \n",
      "- Pandas is a powerful tool for engineering features, including methods to convert DataFrames to dictionaries, arrays, etc\n",
      "- scikit-learn makes it very easy to vectorize data structures from Pandas and use them to build ML models\n",
      "- IPython and inline matplotlib is a powerful visualization toolchain"
     ]
    },
    {
     "cell_type": "heading",
     "level": 1,
     "metadata": {},
     "source": [
      "Well, not quite..."
     ]
    },
    {
     "cell_type": "markdown",
     "metadata": {},
     "source": [
      "Remember we had that document title, well, there is another interesting element of feature engineering, which "
     ]
    },
    {
     "cell_type": "code",
     "collapsed": false,
     "input": [
      "page = pages[0]\n",
      "page['title']\n",
      "\n",
      "elements = pd.DataFrame(page['elements'])\n",
      "\n",
      "\n"
     ],
     "language": "python",
     "metadata": {},
     "outputs": [],
     "prompt_number": 330
    },
    {
     "cell_type": "code",
     "collapsed": false,
     "input": [
      "from sklearn.feature_extraction.text import TfidfVectorizer"
     ],
     "language": "python",
     "metadata": {},
     "outputs": [],
     "prompt_number": 331
    },
    {
     "cell_type": "code",
     "collapsed": false,
     "input": [
      "x = TfidfVectorizer().fit_transform([])\n",
      "print x"
     ],
     "language": "python",
     "metadata": {},
     "outputs": [
      {
       "output_type": "stream",
       "stream": "stdout",
       "text": [
        "  (0, 4)\t0.4472135955\n",
        "  (0, 3)\t0.4472135955\n",
        "  (0, 2)\t0.4472135955\n",
        "  (0, 1)\t0.4472135955\n",
        "  (0, 0)\t0.4472135955\n"
       ]
      }
     ],
     "prompt_number": 337
    },
    {
     "cell_type": "code",
     "collapsed": false,
     "input": [
      "print len(elements['text'].values)\n",
      "v = [page['title']]\n",
      "v.extend(elements['text'].values)\n",
      "x2 = TfidfVectorizer().fit_transform(v)\n"
     ],
     "language": "python",
     "metadata": {},
     "outputs": [
      {
       "output_type": "stream",
       "stream": "stdout",
       "text": [
        "274\n"
       ]
      }
     ],
     "prompt_number": 347
    },
    {
     "cell_type": "code",
     "collapsed": false,
     "input": [
      "from sklearn.metrics.pairwise import linear_kernel"
     ],
     "language": "python",
     "metadata": {},
     "outputs": [],
     "prompt_number": 344
    },
    {
     "cell_type": "code",
     "collapsed": false,
     "input": [
      "cosine_similarities = linear_kernel(x2[0:1], x2).flatten()"
     ],
     "language": "python",
     "metadata": {},
     "outputs": [],
     "prompt_number": 348
    },
    {
     "cell_type": "code",
     "collapsed": false,
     "input": [
      "related_docs_indices = cosine_similarities.argsort()[:-3:-1]"
     ],
     "language": "python",
     "metadata": {},
     "outputs": [],
     "prompt_number": 355
    },
    {
     "cell_type": "code",
     "collapsed": false,
     "input": [
      "related_docs_indices"
     ],
     "language": "python",
     "metadata": {},
     "outputs": [
      {
       "metadata": {},
       "output_type": "pyout",
       "prompt_number": 356,
       "text": [
        "array([  0, 131])"
       ]
      }
     ],
     "prompt_number": 356
    },
    {
     "cell_type": "code",
     "collapsed": false,
     "input": [
      "[v[i] for i in related_docs_indices]"
     ],
     "language": "python",
     "metadata": {},
     "outputs": [
      {
       "metadata": {},
       "output_type": "pyout",
       "prompt_number": 357,
       "text": [
        "[u'LEGO\\xae Ninjago NinjaCopter 70724 : Target',\n",
        " u'LEGO\\xae Ninjago NinjaCopter 70724']"
       ]
      }
     ],
     "prompt_number": 357
    },
    {
     "cell_type": "code",
     "collapsed": false,
     "input": [],
     "language": "python",
     "metadata": {},
     "outputs": []
    }
   ],
   "metadata": {}
  }
 ]
}